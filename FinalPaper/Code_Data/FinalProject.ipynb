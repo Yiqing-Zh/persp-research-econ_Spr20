{
 "cells": [
  {
   "cell_type": "code",
   "execution_count": 1,
   "metadata": {},
   "outputs": [],
   "source": [
    "import numpy as np\n",
    "import pandas as pd\n",
    "import statsmodels.api as sm\n",
    "import matplotlib.pyplot as plt"
   ]
  },
  {
   "cell_type": "code",
   "execution_count": 2,
   "metadata": {},
   "outputs": [
    {
     "data": {
      "text/html": [
       "<div>\n",
       "<style scoped>\n",
       "    .dataframe tbody tr th:only-of-type {\n",
       "        vertical-align: middle;\n",
       "    }\n",
       "\n",
       "    .dataframe tbody tr th {\n",
       "        vertical-align: top;\n",
       "    }\n",
       "\n",
       "    .dataframe thead th {\n",
       "        text-align: right;\n",
       "    }\n",
       "</style>\n",
       "<table border=\"1\" class=\"dataframe\">\n",
       "  <thead>\n",
       "    <tr style=\"text-align: right;\">\n",
       "      <th></th>\n",
       "      <th>hhcode</th>\n",
       "      <th>earning_ann</th>\n",
       "      <th>earning_mon</th>\n",
       "      <th>female</th>\n",
       "      <th>school</th>\n",
       "      <th>age</th>\n",
       "      <th>age_sq</th>\n",
       "      <th>prov</th>\n",
       "      <th>city</th>\n",
       "      <th>const</th>\n",
       "    </tr>\n",
       "  </thead>\n",
       "  <tbody>\n",
       "    <tr>\n",
       "      <th>0</th>\n",
       "      <td>1101010208301</td>\n",
       "      <td>26400.0</td>\n",
       "      <td>2200.0</td>\n",
       "      <td>1.0</td>\n",
       "      <td>11.0</td>\n",
       "      <td>24.0</td>\n",
       "      <td>5.760000</td>\n",
       "      <td>11</td>\n",
       "      <td>01</td>\n",
       "      <td>1</td>\n",
       "    </tr>\n",
       "    <tr>\n",
       "      <th>1</th>\n",
       "      <td>1101010209701</td>\n",
       "      <td>36000.0</td>\n",
       "      <td>3000.0</td>\n",
       "      <td>0.0</td>\n",
       "      <td>11.0</td>\n",
       "      <td>50.0</td>\n",
       "      <td>25.000000</td>\n",
       "      <td>11</td>\n",
       "      <td>01</td>\n",
       "      <td>1</td>\n",
       "    </tr>\n",
       "    <tr>\n",
       "      <th>2</th>\n",
       "      <td>1101010209701</td>\n",
       "      <td>60000.0</td>\n",
       "      <td>5000.0</td>\n",
       "      <td>1.0</td>\n",
       "      <td>11.0</td>\n",
       "      <td>46.0</td>\n",
       "      <td>21.160000</td>\n",
       "      <td>11</td>\n",
       "      <td>01</td>\n",
       "      <td>1</td>\n",
       "    </tr>\n",
       "    <tr>\n",
       "      <th>3</th>\n",
       "      <td>1101010209701</td>\n",
       "      <td>42000.0</td>\n",
       "      <td>3500.0</td>\n",
       "      <td>1.0</td>\n",
       "      <td>14.0</td>\n",
       "      <td>47.0</td>\n",
       "      <td>22.090000</td>\n",
       "      <td>11</td>\n",
       "      <td>01</td>\n",
       "      <td>1</td>\n",
       "    </tr>\n",
       "    <tr>\n",
       "      <th>4</th>\n",
       "      <td>1101010209701</td>\n",
       "      <td>72000.0</td>\n",
       "      <td>6000.0</td>\n",
       "      <td>0.0</td>\n",
       "      <td>15.0</td>\n",
       "      <td>48.0</td>\n",
       "      <td>23.040001</td>\n",
       "      <td>11</td>\n",
       "      <td>01</td>\n",
       "      <td>1</td>\n",
       "    </tr>\n",
       "  </tbody>\n",
       "</table>\n",
       "</div>"
      ],
      "text/plain": [
       "          hhcode  earning_ann  earning_mon  female  school   age     age_sq  \\\n",
       "0  1101010208301      26400.0       2200.0     1.0    11.0  24.0   5.760000   \n",
       "1  1101010209701      36000.0       3000.0     0.0    11.0  50.0  25.000000   \n",
       "2  1101010209701      60000.0       5000.0     1.0    11.0  46.0  21.160000   \n",
       "3  1101010209701      42000.0       3500.0     1.0    14.0  47.0  22.090000   \n",
       "4  1101010209701      72000.0       6000.0     0.0    15.0  48.0  23.040001   \n",
       "\n",
       "  prov city  const  \n",
       "0   11   01      1  \n",
       "1   11   01      1  \n",
       "2   11   01      1  \n",
       "3   11   01      1  \n",
       "4   11   01      1  "
      ]
     },
     "execution_count": 2,
     "metadata": {},
     "output_type": "execute_result"
    }
   ],
   "source": [
    "df = pd.read_stata('chip2013.dta')\n",
    "df['const'] = 1\n",
    "df.head()"
   ]
  },
  {
   "cell_type": "code",
   "execution_count": 3,
   "metadata": {},
   "outputs": [
    {
     "name": "stdout",
     "output_type": "stream",
     "text": [
      "                            OLS Regression Results                            \n",
      "==============================================================================\n",
      "Dep. Variable:            earning_mon   R-squared:                       0.198\n",
      "Model:                            OLS   Adj. R-squared:                  0.195\n",
      "Method:                 Least Squares   F-statistic:                     53.65\n",
      "Date:                Wed, 10 Jun 2020   Prob (F-statistic):           1.97e-40\n",
      "Time:                        20:30:22   Log-Likelihood:                -8211.3\n",
      "No. Observations:                 873   AIC:                         1.643e+04\n",
      "Df Residuals:                     868   BIC:                         1.646e+04\n",
      "Df Model:                           4                                         \n",
      "Covariance Type:            nonrobust                                         \n",
      "==============================================================================\n",
      "                 coef    std err          t      P>|t|      [0.025      0.975]\n",
      "------------------------------------------------------------------------------\n",
      "const      -9111.8337   1794.894     -5.077      0.000   -1.26e+04   -5588.994\n",
      "age          296.7956     84.847      3.498      0.000     130.266     463.325\n",
      "age_sq      -295.8499    102.784     -2.878      0.004    -497.583     -94.117\n",
      "female      -808.0074    208.252     -3.880      0.000   -1216.744    -399.270\n",
      "school       546.3975     39.601     13.797      0.000     468.672     624.123\n",
      "==============================================================================\n",
      "Omnibus:                      522.258   Durbin-Watson:                   1.485\n",
      "Prob(Omnibus):                  0.000   Jarque-Bera (JB):             6238.625\n",
      "Skew:                           2.521   Prob(JB):                         0.00\n",
      "Kurtosis:                      15.087   Cond. No.                         869.\n",
      "==============================================================================\n",
      "\n",
      "Warnings:\n",
      "[1] Standard Errors assume that the covariance matrix of the errors is correctly specified.\n"
     ]
    }
   ],
   "source": [
    "sample = df[df['prov']=='11']\n",
    "reg1 = sm.OLS(endog=sample['earning_mon'], exog=sample[['const', 'age', 'age_sq', 'female', \n",
    "                                                                'school']], missing='drop')\n",
    "result1 = reg1.fit()\n",
    "print(result1.summary())"
   ]
  },
  {
   "cell_type": "code",
   "execution_count": 4,
   "metadata": {},
   "outputs": [],
   "source": [
    "y_pred = result1.predict(exog=sample[['const','age','age_sq','female','school']])"
   ]
  },
  {
   "cell_type": "code",
   "execution_count": 5,
   "metadata": {},
   "outputs": [],
   "source": [
    "from sklearn.metrics import mean_squared_error\n",
    "import sklearn.linear_model\n",
    "from sklearn.model_selection import KFold\n",
    "kf = KFold(n_splits=4, shuffle=True, random_state=10)"
   ]
  },
  {
   "cell_type": "code",
   "execution_count": 6,
   "metadata": {},
   "outputs": [],
   "source": [
    "prov_list = [\"11\", \"14\", \"21\", \"32\", \"34\", \"37\", \"41\", \"42\", \"43\", \"44\", \"50\", \"51\", \"53\", \"62\"]\n",
    "mse_vec = {}"
   ]
  },
  {
   "cell_type": "code",
   "execution_count": 62,
   "metadata": {},
   "outputs": [
    {
     "data": {
      "text/plain": [
       "{'OLS': 10607887.003603922}"
      ]
     },
     "execution_count": 62,
     "metadata": {},
     "output_type": "execute_result"
    }
   ],
   "source": [
    "# compute OLS mse\n",
    "mse_OLS = []\n",
    "for prov_code in prov_list:\n",
    "    sample = df[df['prov']==prov_code]\n",
    "    reg = sm.OLS(endog=sample['earning_mon'], exog=sample[['const', 'age', 'age_sq', 'female', \n",
    "                                                            'school']], missing='drop')\n",
    "    result = reg.fit()    \n",
    "    y_pred = result.predict(exog=sample[['const','age','age_sq','female','school']])\n",
    "    mse_OLS.append(mean_squared_error(sample['earning_mon'],y_pred))\n",
    "    # df[prov_code] = result.predict(exog = df[['const','age','age_sq','female','school']])\n",
    "mse_vec['OLS'] = np.array(mse_OLS).mean()\n",
    "mse_vec"
   ]
  },
  {
   "cell_type": "markdown",
   "metadata": {},
   "source": [
    "# Lasso"
   ]
  },
  {
   "cell_type": "code",
   "execution_count": 13,
   "metadata": {},
   "outputs": [],
   "source": [
    "# choose the best alpha for lasso regression using k-fold cross validation, k=4\n",
    "alpha_vec = np.linspace(0.1, 100, 100)"
   ]
  },
  {
   "cell_type": "code",
   "execution_count": 9,
   "metadata": {},
   "outputs": [
    {
     "name": "stderr",
     "output_type": "stream",
     "text": [
      "C:\\Users\\nanka\\Anaconda3\\lib\\site-packages\\sklearn\\linear_model\\coordinate_descent.py:492: ConvergenceWarning: Objective did not converge. You might want to increase the number of iterations. Fitting data with very small alpha may cause precision problems.\n",
      "  ConvergenceWarning)\n",
      "C:\\Users\\nanka\\Anaconda3\\lib\\site-packages\\sklearn\\linear_model\\coordinate_descent.py:492: ConvergenceWarning: Objective did not converge. You might want to increase the number of iterations. Fitting data with very small alpha may cause precision problems.\n",
      "  ConvergenceWarning)\n",
      "C:\\Users\\nanka\\Anaconda3\\lib\\site-packages\\sklearn\\linear_model\\coordinate_descent.py:492: ConvergenceWarning: Objective did not converge. You might want to increase the number of iterations. Fitting data with very small alpha may cause precision problems.\n",
      "  ConvergenceWarning)\n"
     ]
    }
   ],
   "source": [
    "mse_lasso = []\n",
    "for a in alpha_vec:\n",
    "    lasso_model = sklearn.linear_model.Lasso(alpha=a)\n",
    "    mse_nation = 0\n",
    "    # because we have 14 provinces, so we have 14 regressions. mse is sumed up.\n",
    "    for prov_code in prov_list: \n",
    "        sample = df[df['prov']==prov_code]\n",
    "        X = sample[['age', 'age_sq', 'female', 'school']].values\n",
    "        y = sample['earning_mon'].values\n",
    "        mse_prov = 0\n",
    "        for train_index, test_index in kf.split(X):\n",
    "            X_train, X_test = X[train_index], X[test_index]\n",
    "            y_train, y_test = y[train_index], y[test_index]        \n",
    "            lasso_model.fit(X_train, y_train)    \n",
    "            y_pred = lasso_model.predict(X_test)\n",
    "            mse_prov += mean_squared_error(y_test,y_pred)\n",
    "        # df[prov_code] = result.predict(exog = df[['const','age','age_sq','female','school']])\n",
    "        mse_nation += mse_prov / 4\n",
    "    mse_lasso.append(mse_nation / 14)"
   ]
  },
  {
   "cell_type": "code",
   "execution_count": 10,
   "metadata": {},
   "outputs": [
    {
     "name": "stdout",
     "output_type": "stream",
     "text": [
      "[6.15454545]\n"
     ]
    }
   ],
   "source": [
    "alpha_star_lasso = alpha_vec[np.where(mse_lasso == np.amin(mse_lasso))[0]]\n",
    "print(alpha_star_lasso)"
   ]
  },
  {
   "cell_type": "code",
   "execution_count": 126,
   "metadata": {},
   "outputs": [
    {
     "name": "stdout",
     "output_type": "stream",
     "text": [
      "10608163.700335298\n"
     ]
    }
   ],
   "source": [
    "# compute mse using the best selected alpha\n",
    "mse_lasso = []\n",
    "lasso_model_star = sklearn.linear_model.Lasso(alpha=alpha_star_lasso)\n",
    "for prov_code in prov_list: \n",
    "    sample = df[df['prov']==prov_code]\n",
    "    X = sample[['age', 'age_sq', 'female', 'school']]\n",
    "    y = sample['earning_mon']\n",
    "    lasso_model_star.fit(X, y)\n",
    "    y_pred = lasso_model_star.predict(X)\n",
    "    mse_lasso.append(mean_squared_error(y, y_pred))\n",
    "print(np.array(mse_lasso).mean())\n",
    "mse_vec['Lasso'] = np.array(mse_lasso).mean()"
   ]
  },
  {
   "cell_type": "markdown",
   "metadata": {},
   "source": [
    "# Ridge"
   ]
  },
  {
   "cell_type": "code",
   "execution_count": 11,
   "metadata": {},
   "outputs": [],
   "source": [
    "# select best alpha using k-fold cross validation, k=4\n",
    "mse_ridge = []\n",
    "for a in alpha_vec:\n",
    "    ridge_model = sklearn.linear_model.Ridge(alpha=a)\n",
    "    mse_nation = 0\n",
    "    for prov_code in prov_list: \n",
    "        sample = df[df['prov']==prov_code]\n",
    "        X = sample[['age', 'age_sq', 'female', 'school']].values\n",
    "        y = sample['earning_mon'].values\n",
    "        mse_prov = 0\n",
    "        for train_index, test_index in kf.split(X):\n",
    "            X_train, X_test = X[train_index], X[test_index]\n",
    "            y_train, y_test = y[train_index], y[test_index]        \n",
    "            ridge_model.fit(X_train, y_train)    \n",
    "            y_pred = ridge_model.predict(X_test)\n",
    "            mse_prov += mean_squared_error(y_test,y_pred)\n",
    "        # df[prov_code] = result.predict(exog = df[['const','age','age_sq','female','school']])\n",
    "        mse_nation += mse_prov / 4\n",
    "    mse_ridge.append(mse_nation / 14)"
   ]
  },
  {
   "cell_type": "code",
   "execution_count": 12,
   "metadata": {},
   "outputs": [
    {
     "name": "stdout",
     "output_type": "stream",
     "text": [
      "[29.36363636]\n"
     ]
    }
   ],
   "source": [
    "alpha_star_ridge = alpha_vec[np.where(mse_ridge == np.amin(mse_ridge))[0]]\n",
    "print(alpha_star_ridge)"
   ]
  },
  {
   "cell_type": "code",
   "execution_count": 129,
   "metadata": {},
   "outputs": [
    {
     "name": "stdout",
     "output_type": "stream",
     "text": [
      "10613054.0\n"
     ]
    }
   ],
   "source": [
    "# compute mse using best selected alpha\n",
    "mse_ridge = []\n",
    "ridge_model_star = sklearn.linear_model.Ridge(alpha=alpha_star_ridge)\n",
    "for prov_code in prov_list: \n",
    "    sample = df[df['prov']==prov_code]\n",
    "    X = sample[['age', 'age_sq', 'female', 'school']].values\n",
    "    y = sample['earning_mon'].values\n",
    "    ridge_model_star.fit(X, y)\n",
    "    y_pred = ridge_model_star.predict(X)\n",
    "    mse_ridge.append(mean_squared_error(y, y_pred))\n",
    "print(np.array(mse_ridge).mean())\n",
    "mse_vec['Ridge'] = np.array(mse_ridge).mean()"
   ]
  },
  {
   "cell_type": "code",
   "execution_count": 130,
   "metadata": {},
   "outputs": [
    {
     "data": {
      "text/plain": [
       "{'OLS': 10607887.003603922, 'Lasso': 10608163.700335298, 'Ridge': 10613054.0}"
      ]
     },
     "execution_count": 130,
     "metadata": {},
     "output_type": "execute_result"
    }
   ],
   "source": [
    "mse_vec"
   ]
  },
  {
   "cell_type": "markdown",
   "metadata": {},
   "source": [
    "# Random Forest"
   ]
  },
  {
   "cell_type": "code",
   "execution_count": 132,
   "metadata": {},
   "outputs": [],
   "source": [
    "from sklearn.ensemble import RandomForestRegressor\n",
    "from sklearn.model_selection import RandomizedSearchCV, GridSearchCV\n",
    "from scipy.stats import randint as sp_randint"
   ]
  },
  {
   "cell_type": "code",
   "execution_count": 133,
   "metadata": {},
   "outputs": [],
   "source": [
    "param_dist = {'n_estimators': [10, 200],\n",
    "               'max_depth': [3, 10],\n",
    "               'min_samples_split': sp_randint(2, 20),\n",
    "               'min_samples_leaf': sp_randint(2, 20),\n",
    "               'max_features': sp_randint(1, 5)}"
   ]
  },
  {
   "cell_type": "code",
   "execution_count": 134,
   "metadata": {},
   "outputs": [],
   "source": [
    "X = df[['age', 'age_sq', 'female', 'school']].values\n",
    "y = df['earning_mon'].values"
   ]
  },
  {
   "cell_type": "code",
   "execution_count": 135,
   "metadata": {},
   "outputs": [
    {
     "data": {
      "text/plain": [
       "RandomizedSearchCV(cv=4, error_score='raise-deprecating',\n",
       "          estimator=RandomForestRegressor(bootstrap=True, criterion='mse', max_depth=None,\n",
       "           max_features='auto', max_leaf_nodes=None,\n",
       "           min_impurity_decrease=0.0, min_impurity_split=None,\n",
       "           min_samples_leaf=1, min_samples_split=2,\n",
       "           min_weight_fraction_leaf=0.0, n_estimators='warn', n_jobs=None,\n",
       "           oob_score=False, random_state=25, verbose=0, warm_start=False),\n",
       "          fit_params=None, iid='warn', n_iter=100, n_jobs=-1,\n",
       "          param_distributions={'n_estimators': [10, 200], 'max_depth': [3, 10], 'min_samples_split': <scipy.stats._distn_infrastructure.rv_frozen object at 0x000001A73DAEE978>, 'min_samples_leaf': <scipy.stats._distn_infrastructure.rv_frozen object at 0x000001A73DAEE9B0>, 'max_features': <scipy.stats._distn_infrastructure.rv_frozen object at 0x000001A73DAEEC50>},\n",
       "          pre_dispatch='2*n_jobs', random_state=25, refit=True,\n",
       "          return_train_score='warn', scoring='neg_mean_squared_error',\n",
       "          verbose=0)"
      ]
     },
     "execution_count": 135,
     "metadata": {},
     "output_type": "execute_result"
    }
   ],
   "source": [
    "# selected best parameters for random forest regression\n",
    "hittree = RandomForestRegressor(random_state=25)\n",
    "random_search = \\\n",
    "    RandomizedSearchCV(hittree, param_distributions=param_dist,\n",
    "                       n_iter=100, n_jobs=-1, cv=4, random_state=25,\n",
    "                       scoring='neg_mean_squared_error')\n",
    "random_search.fit(X, y)"
   ]
  },
  {
   "cell_type": "code",
   "execution_count": 136,
   "metadata": {},
   "outputs": [
    {
     "name": "stdout",
     "output_type": "stream",
     "text": [
      "RandBestParams1 (whole data set) = {'max_depth': 3, 'max_features': 3, 'min_samples_leaf': 13, 'min_samples_split': 10, 'n_estimators': 200}\n"
     ]
    }
   ],
   "source": [
    "print('RandBestParams1 (whole data set) =', random_search.best_params_)"
   ]
  },
  {
   "cell_type": "code",
   "execution_count": 137,
   "metadata": {},
   "outputs": [
    {
     "name": "stdout",
     "output_type": "stream",
     "text": [
      "10162166.025653824\n"
     ]
    }
   ],
   "source": [
    "mse_rf = []\n",
    "rf_model_star = RandomForestRegressor(max_depth=3,max_features=3, min_samples_leaf=13,min_samples_split=10,n_estimators=200)\n",
    "# predict individual earning in each province\n",
    "for prov_code in prov_list: \n",
    "    sample = df[df['prov']==prov_code]\n",
    "    X = sample[['age', 'age_sq', 'female', 'school']].values\n",
    "    y = sample['earning_mon'].values\n",
    "    rf_model_star.fit(X, y)\n",
    "    y_pred = rf_model_star.predict(X)\n",
    "    mse_rf.append(mean_squared_error(y, y_pred))\n",
    "print(np.array(mse_rf).mean())\n",
    "mse_vec['Random Forest'] = np.array(mse_rf).mean()"
   ]
  },
  {
   "cell_type": "code",
   "execution_count": 142,
   "metadata": {},
   "outputs": [
    {
     "data": {
      "text/html": [
       "<div>\n",
       "<style scoped>\n",
       "    .dataframe tbody tr th:only-of-type {\n",
       "        vertical-align: middle;\n",
       "    }\n",
       "\n",
       "    .dataframe tbody tr th {\n",
       "        vertical-align: top;\n",
       "    }\n",
       "\n",
       "    .dataframe thead th {\n",
       "        text-align: right;\n",
       "    }\n",
       "</style>\n",
       "<table border=\"1\" class=\"dataframe\">\n",
       "  <thead>\n",
       "    <tr style=\"text-align: right;\">\n",
       "      <th></th>\n",
       "      <th>0</th>\n",
       "    </tr>\n",
       "  </thead>\n",
       "  <tbody>\n",
       "    <tr>\n",
       "      <th>OLS</th>\n",
       "      <td>1.060789e+07</td>\n",
       "    </tr>\n",
       "    <tr>\n",
       "      <th>Lasso</th>\n",
       "      <td>1.060816e+07</td>\n",
       "    </tr>\n",
       "    <tr>\n",
       "      <th>Ridge</th>\n",
       "      <td>1.061305e+07</td>\n",
       "    </tr>\n",
       "    <tr>\n",
       "      <th>Random Forest</th>\n",
       "      <td>1.016217e+07</td>\n",
       "    </tr>\n",
       "  </tbody>\n",
       "</table>\n",
       "</div>"
      ],
      "text/plain": [
       "                          0\n",
       "OLS            1.060789e+07\n",
       "Lasso          1.060816e+07\n",
       "Ridge          1.061305e+07\n",
       "Random Forest  1.016217e+07"
      ]
     },
     "execution_count": 142,
     "metadata": {},
     "output_type": "execute_result"
    }
   ],
   "source": [
    "pd.DataFrame.from_dict(mse_vec,orient='index')"
   ]
  },
  {
   "cell_type": "code",
   "execution_count": 192,
   "metadata": {},
   "outputs": [
    {
     "data": {
      "text/plain": [
       "{'OLS': 10607887.003603922,\n",
       " 'Lasso': 10608163.700335298,\n",
       " 'Ridge': 10613054.0,\n",
       " 'Random Forest': 10162166.025653824}"
      ]
     },
     "execution_count": 192,
     "metadata": {},
     "output_type": "execute_result"
    }
   ],
   "source": [
    "mse_vec"
   ]
  },
  {
   "cell_type": "code",
   "execution_count": 176,
   "metadata": {},
   "outputs": [
    {
     "data": {
      "text/plain": [
       "[607887.0036039222, 608163.7003352977, 613054.0, 162166.0256538242]"
      ]
     },
     "execution_count": 176,
     "metadata": {},
     "output_type": "execute_result"
    }
   ],
   "source": [
    "mse_rescaled = []\n",
    "for num in mse_vec.values():\n",
    "    num = (num - 10000000)\n",
    "    mse_rescaled.append(num)\n",
    "mse_rescaled"
   ]
  },
  {
   "cell_type": "code",
   "execution_count": 173,
   "metadata": {
    "scrolled": true
   },
   "outputs": [
    {
     "data": {
      "image/png": "[encoded data removed]",
      "text/plain": [
       "<Figure size 432x288 with 1 Axes>"
      ]
     },
     "metadata": {
      "needs_background": "light"
     },
     "output_type": "display_data"
    }
   ],
   "source": [
    "plt.bar(mse_vec.keys(),mse_rescaled);"
   ]
  },
  {
   "cell_type": "code",
   "execution_count": 182,
   "metadata": {},
   "outputs": [
    {
     "data": {
      "image/png": "[encoded data removed]",
      "text/plain": [
       "<Figure size 432x288 with 1 Axes>"
      ]
     },
     "metadata": {
      "needs_background": "light"
     },
     "output_type": "display_data"
    }
   ],
   "source": [
    "plt.ylim([10000000, 11000000])\n",
    "plt.bar(mse_vec.keys(),mse_vec.values())\n",
    "plt.ylabel('MSE')\n",
    "plt.xlabel('Method')\n",
    "plt.savefig('MSE');"
   ]
  },
  {
   "cell_type": "markdown",
   "metadata": {},
   "source": [
    "# Location cost"
   ]
  },
  {
   "cell_type": "code",
   "execution_count": 187,
   "metadata": {},
   "outputs": [],
   "source": [
    "X = df[['age', 'age_sq', 'female', 'school']].values\n",
    "y = df['earning_mon'].values\n",
    "df2 = df.copy()\n",
    "for prov_code in prov_list: \n",
    "    sample = df[df['prov']==prov_code]\n",
    "    X_sample = sample[['age', 'age_sq', 'female', 'school']].values\n",
    "    y_sample = sample['earning_mon'].values\n",
    "    rf_model_star.fit(X_sample, y_sample)   \n",
    "    df2[prov_code] = rf_model_star.predict(X)"
   ]
  },
  {
   "cell_type": "code",
   "execution_count": 189,
   "metadata": {},
   "outputs": [
    {
     "name": "stderr",
     "output_type": "stream",
     "text": [
      "C:\\Users\\nanka\\Anaconda3\\lib\\site-packages\\pandas\\io\\stata.py:2138: InvalidColumnName: \n",
      "Not all pandas column names were valid Stata variable names.\n",
      "The following replacements have been made:\n",
      "\n",
      "    b'const'   ->   _const\n",
      "    b'11'   ->   _11\n",
      "    b'14'   ->   _14\n",
      "    b'21'   ->   _21\n",
      "    b'32'   ->   _32\n",
      "    b'34'   ->   _34\n",
      "    b'37'   ->   _37\n",
      "    b'41'   ->   _41\n",
      "    b'42'   ->   _42\n",
      "    b'43'   ->   _43\n",
      "    b'44'   ->   _44\n",
      "    b'50'   ->   _50\n",
      "    b'51'   ->   _51\n",
      "    b'53'   ->   _53\n",
      "    b'62'   ->   _62\n",
      "\n",
      "If this is not what you expect, please make sure you have Stata-compliant\n",
      "column names in your DataFrame (strings only, max 32 characters, only\n",
      "alphanumerics and underscores, no Stata reserved words)\n",
      "\n",
      "  warnings.warn(ws, InvalidColumnName)\n"
     ]
    }
   ],
   "source": [
    "df2.to_stata('finaldata.dta') \n",
    "# some simple modification is done by STATA because it is easier\n",
    "# location cost is computed in stata program"
   ]
  },
  {
   "cell_type": "markdown",
   "metadata": {},
   "source": [
    "# After merge"
   ]
  },
  {
   "cell_type": "code",
   "execution_count": 7,
   "metadata": {},
   "outputs": [
    {
     "data": {
      "text/html": [
       "<div>\n",
       "<style scoped>\n",
       "    .dataframe tbody tr th:only-of-type {\n",
       "        vertical-align: middle;\n",
       "    }\n",
       "\n",
       "    .dataframe tbody tr th {\n",
       "        vertical-align: top;\n",
       "    }\n",
       "\n",
       "    .dataframe thead th {\n",
       "        text-align: right;\n",
       "    }\n",
       "</style>\n",
       "<table border=\"1\" class=\"dataframe\">\n",
       "  <thead>\n",
       "    <tr style=\"text-align: right;\">\n",
       "      <th></th>\n",
       "      <th>index</th>\n",
       "      <th>hhcode</th>\n",
       "      <th>earning_ann</th>\n",
       "      <th>earning_mon</th>\n",
       "      <th>female</th>\n",
       "      <th>school</th>\n",
       "      <th>age</th>\n",
       "      <th>age_sq</th>\n",
       "      <th>prov</th>\n",
       "      <th>prov_num</th>\n",
       "      <th>...</th>\n",
       "      <th>earning_home</th>\n",
       "      <th>prov_max</th>\n",
       "      <th>prov_max_num</th>\n",
       "      <th>earning_max</th>\n",
       "      <th>cost</th>\n",
       "      <th>costbyprov</th>\n",
       "      <th>earnbyprov</th>\n",
       "      <th>link</th>\n",
       "      <th>_merge</th>\n",
       "      <th>transport</th>\n",
       "    </tr>\n",
       "  </thead>\n",
       "  <tbody>\n",
       "    <tr>\n",
       "      <th>0</th>\n",
       "      <td>8679</td>\n",
       "      <td>6209021201801</td>\n",
       "      <td>42000.0</td>\n",
       "      <td>3500.000000</td>\n",
       "      <td>0.0</td>\n",
       "      <td>14.0</td>\n",
       "      <td>38.0</td>\n",
       "      <td>14.440000</td>\n",
       "      <td>62</td>\n",
       "      <td>62</td>\n",
       "      <td>...</td>\n",
       "      <td>3533.469238</td>\n",
       "      <td>32</td>\n",
       "      <td>32</td>\n",
       "      <td>5990.144043</td>\n",
       "      <td>2456.674805</td>\n",
       "      <td>2271.944336</td>\n",
       "      <td>2716.587158</td>\n",
       "      <td>3262</td>\n",
       "      <td>master only (1)</td>\n",
       "      <td>0.0</td>\n",
       "    </tr>\n",
       "    <tr>\n",
       "      <th>1</th>\n",
       "      <td>5050</td>\n",
       "      <td>4201110809601</td>\n",
       "      <td>33600.0</td>\n",
       "      <td>5600.000000</td>\n",
       "      <td>1.0</td>\n",
       "      <td>9.0</td>\n",
       "      <td>47.0</td>\n",
       "      <td>22.090000</td>\n",
       "      <td>42</td>\n",
       "      <td>42</td>\n",
       "      <td>...</td>\n",
       "      <td>2466.287109</td>\n",
       "      <td>11</td>\n",
       "      <td>11</td>\n",
       "      <td>3114.777344</td>\n",
       "      <td>648.490234</td>\n",
       "      <td>1820.712769</td>\n",
       "      <td>3308.703613</td>\n",
       "      <td>1142</td>\n",
       "      <td>master only (1)</td>\n",
       "      <td>0.0</td>\n",
       "    </tr>\n",
       "    <tr>\n",
       "      <th>2</th>\n",
       "      <td>5522</td>\n",
       "      <td>4301110206601</td>\n",
       "      <td>35000.0</td>\n",
       "      <td>2916.666748</td>\n",
       "      <td>0.0</td>\n",
       "      <td>15.0</td>\n",
       "      <td>44.0</td>\n",
       "      <td>19.360001</td>\n",
       "      <td>43</td>\n",
       "      <td>43</td>\n",
       "      <td>...</td>\n",
       "      <td>4047.834473</td>\n",
       "      <td>44</td>\n",
       "      <td>44</td>\n",
       "      <td>6803.185547</td>\n",
       "      <td>2755.351074</td>\n",
       "      <td>1944.690430</td>\n",
       "      <td>3390.797363</td>\n",
       "      <td>4344</td>\n",
       "      <td>master only (1)</td>\n",
       "      <td>0.0</td>\n",
       "    </tr>\n",
       "    <tr>\n",
       "      <th>3</th>\n",
       "      <td>5192</td>\n",
       "      <td>4207040103601</td>\n",
       "      <td>22000.0</td>\n",
       "      <td>1833.333374</td>\n",
       "      <td>1.0</td>\n",
       "      <td>14.0</td>\n",
       "      <td>29.0</td>\n",
       "      <td>8.410000</td>\n",
       "      <td>42</td>\n",
       "      <td>42</td>\n",
       "      <td>...</td>\n",
       "      <td>2929.969971</td>\n",
       "      <td>11</td>\n",
       "      <td>11</td>\n",
       "      <td>4665.355957</td>\n",
       "      <td>1735.385986</td>\n",
       "      <td>1820.712769</td>\n",
       "      <td>3308.703613</td>\n",
       "      <td>1142</td>\n",
       "      <td>master only (1)</td>\n",
       "      <td>0.0</td>\n",
       "    </tr>\n",
       "    <tr>\n",
       "      <th>4</th>\n",
       "      <td>965</td>\n",
       "      <td>1401810401801</td>\n",
       "      <td>26400.0</td>\n",
       "      <td>2200.000000</td>\n",
       "      <td>0.0</td>\n",
       "      <td>9.0</td>\n",
       "      <td>50.0</td>\n",
       "      <td>25.000000</td>\n",
       "      <td>14</td>\n",
       "      <td>14</td>\n",
       "      <td>...</td>\n",
       "      <td>3103.391113</td>\n",
       "      <td>44</td>\n",
       "      <td>44</td>\n",
       "      <td>4482.785156</td>\n",
       "      <td>1379.394043</td>\n",
       "      <td>1913.964111</td>\n",
       "      <td>2919.061035</td>\n",
       "      <td>1444</td>\n",
       "      <td>master only (1)</td>\n",
       "      <td>0.0</td>\n",
       "    </tr>\n",
       "  </tbody>\n",
       "</table>\n",
       "<p>5 rows × 36 columns</p>\n",
       "</div>"
      ],
      "text/plain": [
       "   index         hhcode  earning_ann  earning_mon  female  school   age  \\\n",
       "0   8679  6209021201801      42000.0  3500.000000     0.0    14.0  38.0   \n",
       "1   5050  4201110809601      33600.0  5600.000000     1.0     9.0  47.0   \n",
       "2   5522  4301110206601      35000.0  2916.666748     0.0    15.0  44.0   \n",
       "3   5192  4207040103601      22000.0  1833.333374     1.0    14.0  29.0   \n",
       "4    965  1401810401801      26400.0  2200.000000     0.0     9.0  50.0   \n",
       "\n",
       "      age_sq prov  prov_num    ...     earning_home  prov_max  prov_max_num  \\\n",
       "0  14.440000   62        62    ...      3533.469238        32            32   \n",
       "1  22.090000   42        42    ...      2466.287109        11            11   \n",
       "2  19.360001   43        43    ...      4047.834473        44            44   \n",
       "3   8.410000   42        42    ...      2929.969971        11            11   \n",
       "4  25.000000   14        14    ...      3103.391113        44            44   \n",
       "\n",
       "   earning_max         cost   costbyprov   earnbyprov  link           _merge  \\\n",
       "0  5990.144043  2456.674805  2271.944336  2716.587158  3262  master only (1)   \n",
       "1  3114.777344   648.490234  1820.712769  3308.703613  1142  master only (1)   \n",
       "2  6803.185547  2755.351074  1944.690430  3390.797363  4344  master only (1)   \n",
       "3  4665.355957  1735.385986  1820.712769  3308.703613  1142  master only (1)   \n",
       "4  4482.785156  1379.394043  1913.964111  2919.061035  1444  master only (1)   \n",
       "\n",
       "   transport  \n",
       "0        0.0  \n",
       "1        0.0  \n",
       "2        0.0  \n",
       "3        0.0  \n",
       "4        0.0  \n",
       "\n",
       "[5 rows x 36 columns]"
      ]
     },
     "execution_count": 7,
     "metadata": {},
     "output_type": "execute_result"
    }
   ],
   "source": [
    "df3 = pd.read_stata('merge_hsr.dta')\n",
    "df3.head()"
   ]
  },
  {
   "cell_type": "code",
   "execution_count": 29,
   "metadata": {},
   "outputs": [
    {
     "data": {
      "text/plain": [
       "{'11': 1044.6009521484375,\n",
       " '14': 1913.96240234375,\n",
       " '21': 1811.2672119140625,\n",
       " '32': 911.2861328125,\n",
       " '34': 1605.8302001953125,\n",
       " '37': 1823.08544921875,\n",
       " '41': 2216.79638671875,\n",
       " '42': 1820.714111328125,\n",
       " '43': 1944.6900634765625,\n",
       " '44': 659.3367919921875,\n",
       " '50': 1826.6346435546875,\n",
       " '51': 1730.3861083984375,\n",
       " '53': 2284.951904296875,\n",
       " '62': 2271.945068359375}"
      ]
     },
     "execution_count": 29,
     "metadata": {},
     "output_type": "execute_result"
    }
   ],
   "source": [
    "cost_dict = dict()\n",
    "for prov_code in prov_list:\n",
    "    cost = df3[df3['prov'] == prov_code]['cost'].mean()\n",
    "    cost_dict[prov_code] = cost\n",
    "cost_dict # average location cost in each province"
   ]
  },
  {
   "cell_type": "code",
   "execution_count": 35,
   "metadata": {},
   "outputs": [
    {
     "data": {
      "image/png": "[encoded data removed]",
      "text/plain": [
       "<Figure size 936x432 with 1 Axes>"
      ]
     },
     "metadata": {
      "needs_background": "light"
     },
     "output_type": "display_data"
    }
   ],
   "source": [
    "fig = plt.figure(figsize=(13,6))\n",
    "plt.bar(['Beijing','Shanxi','Liaoning','Jiangsu','Anhui','Shandong','Henan','Hubei','Hunan','Guangdong','Chongqing',\n",
    "        'Sichuan','Yunnan','Gansu'],cost_dict.values())\n",
    "plt.ylim(0,3000)\n",
    "plt.xlabel('Province')\n",
    "plt.ylabel('Location cost')\n",
    "plt.xticks(rotation=-15)\n",
    "plt.savefig('bar_cost');"
   ]
  },
  {
   "cell_type": "code",
   "execution_count": 5,
   "metadata": {},
   "outputs": [],
   "source": [
    "from sklearn.neighbors import KernelDensity\n",
    "from sklearn.model_selection import GridSearchCV, LeaveOneOut"
   ]
  },
  {
   "cell_type": "code",
   "execution_count": 16,
   "metadata": {},
   "outputs": [],
   "source": [
    "bandwidths = 10 ** np.linspace(-1, 1, 100)\n",
    "grid = GridSearchCV(KernelDensity(kernel='gaussian'),\n",
    "                  {'bandwidth': bandwidths},\n",
    "                    cv=4)\n",
    "df_trans = df3[df3['transport'] == 1]['cost'].values/100\n",
    "df_notrans = df3[df3['transport'] == 0]['cost'].values/100\n",
    "df_trans_nozero = df3.loc[(df3.transport==1)&(df3.cost!=0),'cost'].values/100"
   ]
  },
  {
   "cell_type": "code",
   "execution_count": 19,
   "metadata": {},
   "outputs": [],
   "source": [
    "df_trans = df_trans.reshape(2194,1)\n",
    "df_notrans = df_notrans.reshape(6565,1)\n",
    "df_trans_nozero = df_trans_nozero.reshape(1494,1)"
   ]
  },
  {
   "cell_type": "code",
   "execution_count": 4,
   "metadata": {},
   "outputs": [],
   "source": [
    "# grid.fit(df_trans);\n",
    "# opt_bandwidth_trans = grid.best_params_['bandwidth']\n",
    "# print(f'The best bandwidth for the trans is {opt_bandwidth_trans}')\n",
    "\n",
    "# grid.fit(df_notrans);\n",
    "# opt_bandwidth_notrans = grid.best_params_['bandwidth']\n",
    "# print(f'The best bandwidth for the no trans is {opt_bandwidth_notrans}')"
   ]
  },
  {
   "cell_type": "code",
   "execution_count": 23,
   "metadata": {},
   "outputs": [
    {
     "data": {
      "text/plain": [
       "KernelDensity(algorithm='auto', atol=0, bandwidth=1, breadth_first=True,\n",
       "       kernel='gaussian', leaf_size=40, metric='euclidean',\n",
       "       metric_params=None, rtol=0)"
      ]
     },
     "execution_count": 23,
     "metadata": {},
     "output_type": "execute_result"
    }
   ],
   "source": [
    "kde_trans =  KernelDensity(bandwidth=1, kernel='gaussian')\n",
    "kde_trans_nozero =  KernelDensity(bandwidth=1, kernel='gaussian')\n",
    "kde_notrans =  KernelDensity(bandwidth=1, kernel='gaussian')\n",
    "kde_trans.fit(df_trans)\n",
    "kde_trans_nozero.fit(df_trans_nozero)\n",
    "kde_notrans.fit(df_notrans)"
   ]
  },
  {
   "cell_type": "code",
   "execution_count": 25,
   "metadata": {},
   "outputs": [
    {
     "data": {
      "image/png": "[encoded data removed]",
      "text/plain": [
       "<Figure size 432x288 with 1 Axes>"
      ]
     },
     "metadata": {
      "needs_background": "light"
     },
     "output_type": "display_data"
    }
   ],
   "source": [
    "# compare all samples\n",
    "x_pts = np.linspace(0.01, 60, 1000).reshape(1000,1)\n",
    "logprob_trans = kde_trans.score_samples(x_pts).reshape((1000,1))\n",
    "logprob_notrans = kde_notrans.score_samples(x_pts).reshape((1000,1))\n",
    "plt.plot(x_pts, np.exp(logprob_trans), label='transportation=1')\n",
    "plt.plot(x_pts, np.exp(logprob_notrans), label='transportation=0')\n",
    "plt.xlabel('Location cost/100')\n",
    "plt.ylabel('Frequency')\n",
    "plt.legend()\n",
    "plt.savefig('kernel_density');"
   ]
  },
  {
   "cell_type": "code",
   "execution_count": 26,
   "metadata": {},
   "outputs": [
    {
     "data": {
      "image/png": "[encoded data removed]",
      "text/plain": [
       "<Figure size 432x288 with 1 Axes>"
      ]
     },
     "metadata": {
      "needs_background": "light"
     },
     "output_type": "display_data"
    }
   ],
   "source": [
    "# Only compare within those cost!=0\n",
    "x_pts = np.linspace(0.01, 60, 1000).reshape(1000,1)\n",
    "logprob_trans_nozero = kde_trans_nozero.score_samples(x_pts).reshape((1000,1))\n",
    "logprob_notrans = kde_notrans.score_samples(x_pts).reshape((1000,1))\n",
    "plt.plot(x_pts, np.exp(logprob_trans_nozero), label='transportation=1')\n",
    "plt.plot(x_pts, np.exp(logprob_notrans), label='transportation=0')\n",
    "plt.xlabel('Location cost/100')\n",
    "plt.ylabel('Frequency')\n",
    "plt.legend()\n",
    "plt.savefig('kernel_density_nozero');"
   ]
  },
  {
   "cell_type": "code",
   "execution_count": 249,
   "metadata": {},
   "outputs": [
    {
     "data": {
      "image/png": "[encoded data removed]",
      "text/plain": [
       "<Figure size 432x288 with 1 Axes>"
      ]
     },
     "metadata": {
      "needs_background": "light"
     },
     "output_type": "display_data"
    }
   ],
   "source": [
    "hist = plt.hist(df_trans, bins=15, density=True, edgecolor='black')\n",
    "plt.title(\"Histogram for transportation=1\")\n",
    "plt.xlabel('location cost')\n",
    "plt.ylabel('Frequency');"
   ]
  },
  {
   "cell_type": "code",
   "execution_count": 250,
   "metadata": {},
   "outputs": [
    {
     "data": {
      "image/png": "[encoded data removed]",
      "text/plain": [
       "<Figure size 432x288 with 1 Axes>"
      ]
     },
     "metadata": {
      "needs_background": "light"
     },
     "output_type": "display_data"
    }
   ],
   "source": [
    "hist = plt.hist(df_notrans, bins=15, density=True, edgecolor='black')\n",
    "plt.title(\"Histogram for transportation=0\")\n",
    "plt.xlabel('location cost')\n",
    "plt.ylabel('Frequency');"
   ]
  },
  {
   "cell_type": "code",
   "execution_count": null,
   "metadata": {},
   "outputs": [],
   "source": []
  }
 ],
 "metadata": {
  "kernelspec": {
   "display_name": "Python 3",
   "language": "python",
   "name": "python3"
  },
  "language_info": {
   "codemirror_mode": {
    "name": "ipython",
    "version": 3
   },
   "file_extension": ".py",
   "mimetype": "text/x-python",
   "name": "python",
   "nbconvert_exporter": "python",
   "pygments_lexer": "ipython3",
   "version": "3.7.1"
  }
 },
 "nbformat": 4,
 "nbformat_minor": 2
}
